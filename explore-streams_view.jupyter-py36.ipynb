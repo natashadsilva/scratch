{
 "cells": [
  {
   "cell_type": "markdown",
   "metadata": {},
   "source": [
    "# explore-streams_view\n",
    "For more information refer to: [IBM Streams Python support](https://streamsxtopology.readthedocs.io/en/stable/index.html)\n",
    "\n",
    "# Views\n",
    "\n",
    "Streams provides a view into the executing application in order that you may monitor the current processing. The \n",
    "accompanying application composed and submitted by [streaming_analytics_lfe_pipeline](streaming_analytics_lfe_pipeline.jupyter-py36.ipynb) has a number of these views. \n",
    "This notebook illustrates accessing the views and rendering the streams of a running application. \n",
    "\n",
    "Views were designed as a monitoring and exploration tool. Views are a shared resource, \n",
    "an viewing an operator processing significant amounts of data can impact other views. \n",
    "Effecting other views includes losing tuples and lagging data, for this reason views \n",
    "should be relegated to exploration, debugging, and monitoring.\n",
    "\n",
    "The goal of this notebook is to demonstrate views. Views used in \n",
    "conjunction with standard Jupyter facilities for live monitoring of \n",
    "of the data processing.\n",
    "\n",
    "**This project contains Sample Materials, provided under license.  \n",
    "Licensed Materials - Property of IBM.  \n",
    "© Copyright IBM Corp. 2019. All Rights Reserved.  \n",
    "US Government Users Restricted Rights - Use, duplication or disclosure restricted by GSA ADP Schedule Contract with IBM Corp.**\n"
   ]
  },
  {
   "cell_type": "code",
   "execution_count": null,
   "metadata": {
    "scrolled": false
   },
   "outputs": [],
   "source": [
    "import json\n",
    "import sys\n",
    "import urllib3\n",
    "import collections\n",
    "import time\n",
    "\n",
    "from IPython.display import display, clear_output\n",
    "import matplotlib.pyplot as plt\n",
    "%matplotlib inline\n",
    "\n",
    "from streamsx.topology import context\n",
    "import streamsx.rest as rest\n",
    "if '../scripts' not in sys.path:\n",
    "    sys.path.insert(0, '../scripts')\n",
    "from streams_render import list_jobs\n",
    "from streams_render import display_views\n",
    "from streams_render import find_jobs\n",
    "\n",
    "from streams_render import display_view_stop\n"
   ]
  },
  {
   "cell_type": "markdown",
   "metadata": {},
   "source": [
    "## Initialization\n",
    "\n",
    "### Connect to your instance"
   ]
  },
  {
   "cell_type": "code",
   "execution_count": null,
   "metadata": {},
   "outputs": [],
   "source": [
    "#Use the Connect to Instance toolbar button and insert code for config\n",
    "#e.g.\n",
    "from icpd_core import icpd_util\n",
    "cfg=icpd_util.get_service_instance_details(name='zen-sample-icp1-blitz-env')"
   ]
  },
  {
   "cell_type": "markdown",
   "metadata": {},
   "source": [
    "### Configure the environment."
   ]
  },
  {
   "cell_type": "code",
   "execution_count": null,
   "metadata": {
    "scrolled": true
   },
   "outputs": [],
   "source": [
    "# Get the Streams instance setup set some values in order to run more smoothly in notebook.\n",
    "cfg[context.ConfigParams.SSL_VERIFY] = False\n",
    "instance = rest.Instance.of_service(cfg)\n",
    "urllib3.disable_warnings(urllib3.exceptions.InsecureRequestWarning)\n",
    "# Create a dictionary of Views..\n",
    "jobs = find_jobs(instance)\n",
    "VIEWS = dict({})\n",
    "for job in jobs:\n",
    "    VIEWS = {**VIEWS, **{view.name:view for view in job.get_views()} }\n"
   ]
  },
  {
   "cell_type": "markdown",
   "metadata": {},
   "source": [
    "### Check the status of the running jobs..\n",
    "The running application is composed of a number of jobs. The following command lists the application and their state.  "
   ]
  },
  {
   "cell_type": "code",
   "execution_count": null,
   "metadata": {},
   "outputs": [],
   "source": [
    "## Verify Streams instance is running!\n",
    "list_jobs(instance, cancel=False)"
   ]
  },
  {
   "cell_type": "markdown",
   "metadata": {},
   "source": [
    "### Monitor the data as it moves through the application.\n",
    "\n",
    "Display radio buttons of views of the application. Selecting \n",
    "a view will display it's current data. As data moves through the application the \n",
    "messages are consolidated: many 'real_time_events' flow in, a number of events\n",
    "(100+ per customer) are necessary to generate a 'new_score', only scores that \n",
    "pass a significance tests are rendered in the 'significant_events' view. The m"
   ]
  },
  {
   "cell_type": "code",
   "execution_count": null,
   "metadata": {
    "scrolled": true
   },
   "outputs": [],
   "source": [
    "display_views(instance)"
   ]
  },
  {
   "cell_type": "markdown",
   "metadata": {},
   "source": [
    "## Monitor the data entering the system, view : 'real_time_events'"
   ]
  },
  {
   "cell_type": "markdown",
   "metadata": {},
   "source": [
    "The 'real_time_event' view allows monitoring of data as it arrives. \n",
    "\n",
    "The follow displays a table of arriving events. "
   ]
  },
  {
   "cell_type": "code",
   "execution_count": null,
   "metadata": {},
   "outputs": [],
   "source": [
    "VIEWS['real_time_events'].display(duration=30)"
   ]
  },
  {
   "cell_type": "markdown",
   "metadata": {},
   "source": [
    "### Another perspective on 'real_time_events'.\n",
    "\n",
    "Looking at table can be overwhelming. An api is provided to fetch the view data in order to render it in an more informative manner. \n",
    "Below, using the same view's data we render a pie chart. \n"
   ]
  },
  {
   "cell_type": "code",
   "execution_count": null,
   "metadata": {},
   "outputs": [],
   "source": [
    "# Change at your discretion.\n",
    "wait_time_between_renderings = 5\n",
    "number_of_iterations = 3\n",
    "for x in range(number_of_iterations):\n",
    "    elems = [json.loads(item.data['jsonString']) for item in VIEWS['real_time_events'].get_view_items()]\n",
    "    cnt = collections.Counter()\n",
    "    events = [elem[2] for elem in elems]\n",
    "    for event in events:\n",
    "        cnt[event] += 1\n",
    "    labels=[key for key in cnt.keys()]\n",
    "    values=[cnt[ele] for ele in cnt.keys()]\n",
    "    plt.pie(values, labels=values)\n",
    "    plt.legend(labels, loc=0)\n",
    "    plt.show()\n",
    "    time.sleep(wait_time_between_renderings)\n",
    "    clear_output(wait=True)"
   ]
  },
  {
   "cell_type": "markdown",
   "metadata": {},
   "source": [
    "## Monitor  the scores that are generated, view : 'new_scores'\n",
    "For each event that arrives two scores are attempted for the associated customer.\n",
    "\n",
    "The 'new_scores' view is monitoring the newly generated scores derived from the 'real_time_events'. \n",
    "Using the display() you can see scores are flowing. "
   ]
  },
  {
   "cell_type": "code",
   "execution_count": null,
   "metadata": {
    "scrolled": true
   },
   "outputs": [],
   "source": [
    "VIEWS['new_scores'].display(duration=30)"
   ]
  },
  {
   "cell_type": "markdown",
   "metadata": {},
   "source": [
    "### Looking at a bigger picture. \n",
    "\n",
    "In order to generate the score, the models require a number of events. The Streams \n",
    "application provides the events to the model, the model determines \n",
    "if it has sufficient events to generate a score. In this example two models are\n",
    "being used, each of which determines it's events requirements. \n",
    "\n",
    "Consolidating the events into a score makes the data more dense. Using the same view \n",
    "data and the power of notebooks we can show the current scoring distribution of the\n",
    "two models being scored. "
   ]
  },
  {
   "cell_type": "code",
   "execution_count": null,
   "metadata": {},
   "outputs": [],
   "source": [
    "# change at your discretion \n",
    "wait_time_between_renderings = 5\n",
    "number_of_iterations = 3\n",
    "for x in range(number_of_iterations):\n",
    "    elems = [json.loads(item.data['jsonString']) for item in VIEWS['new_scores'].get_view_items()]\n",
    "    purchase = [elem['lfe_home_purchase']['probabilities'][0][1] for elem in elems if 'probabilities' in elem['lfe_home_purchase']]\n",
    "    relocation = [elem['lfe_relocation']['probabilities'][0][1] for elem in elems if 'probabilities' in elem['lfe_relocation']]\n",
    "    #plots the histogram\n",
    "    fig, ax1 = plt.subplots()\n",
    "    ax1.hist([relocation,purchase],color=['b','g'])\n",
    "    ax1.set_ylabel(\"Count\")\n",
    "    plt.legend([\"lfe_home_purchase\", \"lfe_relocation\"], loc='center left', bbox_to_anchor=(1, .5))\n",
    "    plt.show()\n",
    "    time.sleep(wait_time_between_renderings)\n",
    "    clear_output(wait=True)"
   ]
  },
  {
   "cell_type": "markdown",
   "metadata": {},
   "source": [
    "## Looking 'significant events'\n",
    "In the context of this application a significant event may result in a notification (email, text)\n",
    "being sent to a responsible party. The number of sifnificatant events are configured to be low to avoid \n",
    "'alarm fatigue'.\n"
   ]
  },
  {
   "cell_type": "code",
   "execution_count": null,
   "metadata": {},
   "outputs": [],
   "source": [
    "VIEWS['significant_events'].display(duration=30)"
   ]
  },
  {
   "cell_type": "markdown",
   "metadata": {},
   "source": [
    "## More of significance."
   ]
  },
  {
   "cell_type": "markdown",
   "metadata": {},
   "source": [
    "The following display the complete significant events."
   ]
  },
  {
   "cell_type": "code",
   "execution_count": null,
   "metadata": {},
   "outputs": [],
   "source": [
    "[json.loads(item.data['jsonString']) for item in VIEWS['significant_events'].get_view_items()]"
   ]
  },
  {
   "cell_type": "code",
   "execution_count": null,
   "metadata": {},
   "outputs": [],
   "source": []
  },
  {
   "cell_type": "code",
   "execution_count": null,
   "metadata": {},
   "outputs": [],
   "source": []
  }
 ],
 "metadata": {
  "anaconda-cloud": {},
  "kernelspec": {
   "display_name": "Python [default]",
   "language": "python",
   "name": "python3"
  },
  "language_info": {
   "codemirror_mode": {
    "name": "ipython",
    "version": 3
   },
   "file_extension": ".py",
   "mimetype": "text/x-python",
   "name": "python",
   "nbconvert_exporter": "python",
   "pygments_lexer": "ipython3",
   "version": "3.5.2"
  },
  "pycharm": {
   "stem_cell": {
    "cell_type": "raw",
    "metadata": {
     "collapsed": false
    },
    "source": []
   }
  }
 },
 "nbformat": 4,
 "nbformat_minor": 1
}
